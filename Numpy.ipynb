{
  "nbformat": 4,
  "nbformat_minor": 0,
  "metadata": {
    "colab": {
      "provenance": [],
      "authorship_tag": "ABX9TyNRVsMCFuWrnL55KqvLR+aF",
      "include_colab_link": true
    },
    "kernelspec": {
      "name": "python3",
      "display_name": "Python 3"
    },
    "language_info": {
      "name": "python"
    }
  },
  "cells": [
    {
      "cell_type": "markdown",
      "metadata": {
        "id": "view-in-github",
        "colab_type": "text"
      },
      "source": [
        "<a href=\"https://colab.research.google.com/github/Mark12481632/Python-Language/blob/main/Numpy.ipynb\" target=\"_parent\"><img src=\"https://colab.research.google.com/assets/colab-badge.svg\" alt=\"Open In Colab\"/></a>"
      ]
    },
    {
      "cell_type": "code",
      "execution_count": 1,
      "metadata": {
        "id": "aS5Rh0kmJkcF"
      },
      "outputs": [],
      "source": [
        "import numpy as np\n",
        "import matplotlib.pyplot as plt"
      ]
    },
    {
      "cell_type": "code",
      "source": [
        "# Different array creation mechanisms\n",
        "\n",
        "arr1 = np.array([[1,2,3,4],[2,3,4,5],[1,1,3,4]])\n",
        "arr2 = np.zeros((2,3))\n",
        "arr3 = np.ones((3,2))\n",
        "\n",
        "print(arr1)\n",
        "print(arr2)\n",
        "print(arr3)"
      ],
      "metadata": {
        "colab": {
          "base_uri": "https://localhost:8080/"
        },
        "id": "k38kQ-L9J13I",
        "outputId": "f0b3f33d-ce8b-4970-e959-42daeb3719f4"
      },
      "execution_count": 2,
      "outputs": [
        {
          "output_type": "stream",
          "name": "stdout",
          "text": [
            "[[1 2 3 4]\n",
            " [2 3 4 5]\n",
            " [1 1 3 4]]\n",
            "[[0. 0. 0.]\n",
            " [0. 0. 0.]]\n",
            "[[1. 1.]\n",
            " [1. 1.]\n",
            " [1. 1.]]\n"
          ]
        }
      ]
    },
    {
      "cell_type": "code",
      "source": [
        "print(np.arange(0.5, 5.5, 0.5))\n",
        "\n",
        "np.linspace(start=0.6, stop=6.6, num=50)"
      ],
      "metadata": {
        "colab": {
          "base_uri": "https://localhost:8080/"
        },
        "id": "7efwi4ilKj-2",
        "outputId": "249d9837-8383-4e92-bc98-61035792b7ff"
      },
      "execution_count": 5,
      "outputs": [
        {
          "output_type": "stream",
          "name": "stdout",
          "text": [
            "[0.5 1.  1.5 2.  2.5 3.  3.5 4.  4.5 5. ]\n"
          ]
        },
        {
          "output_type": "execute_result",
          "data": {
            "text/plain": [
              "array([0.6       , 0.72244898, 0.84489796, 0.96734694, 1.08979592,\n",
              "       1.2122449 , 1.33469388, 1.45714286, 1.57959184, 1.70204082,\n",
              "       1.8244898 , 1.94693878, 2.06938776, 2.19183673, 2.31428571,\n",
              "       2.43673469, 2.55918367, 2.68163265, 2.80408163, 2.92653061,\n",
              "       3.04897959, 3.17142857, 3.29387755, 3.41632653, 3.53877551,\n",
              "       3.66122449, 3.78367347, 3.90612245, 4.02857143, 4.15102041,\n",
              "       4.27346939, 4.39591837, 4.51836735, 4.64081633, 4.76326531,\n",
              "       4.88571429, 5.00816327, 5.13061224, 5.25306122, 5.3755102 ,\n",
              "       5.49795918, 5.62040816, 5.74285714, 5.86530612, 5.9877551 ,\n",
              "       6.11020408, 6.23265306, 6.35510204, 6.47755102, 6.6       ])"
            ]
          },
          "metadata": {},
          "execution_count": 5
        }
      ]
    },
    {
      "cell_type": "code",
      "source": [
        "# Indexing and Slicing."
      ],
      "metadata": {
        "id": "5jyIvl0wKsKY"
      },
      "execution_count": 6,
      "outputs": []
    },
    {
      "cell_type": "code",
      "source": [],
      "metadata": {
        "id": "SogYwb8aMYzh"
      },
      "execution_count": null,
      "outputs": []
    }
  ]
}